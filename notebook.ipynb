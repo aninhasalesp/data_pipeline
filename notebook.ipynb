{
 "cells": [
  {
   "cell_type": "code",
   "execution_count": 21,
   "metadata": {},
   "outputs": [],
   "source": [
    "import pandas as pd\n",
    "\n",
    "# ler as tabelas\n",
    "rouanet = pd.read_csv('rouanet.csv') \n",
    "censo = pd.read_csv('censo_estado.csv')\n",
    "\n",
    "# unificar as tabelas usando as duas colunas estado_ibge e codigo\n",
    "rouanet_censo = pd.merge(rouanet, censo,\n",
    "                  left_on='estado_ibge', \n",
    "                  right_on='codigo')\n",
    "\n",
    "# criar a natural key\n",
    "rouanet_censo.set_index([\"estado_ibge\", \"valor_em_reais\"])\n",
    "\n",
    "# remover as informações duplicadas de estado_ibge e valor_em_reais\n",
    "rouanet_censo_removed_duplicates = rouanet_censo.drop_duplicates(subset=[\"estado_ibge\", \"valor_em_reais\"])\n",
    "\n",
    "# remover linhas com valor_em_reais e quantidade = 0\n",
    "rouanet_censo2 = rouanet_censo_removed_duplicates.drop(\n",
    "    rouanet_censo_removed_duplicates[\n",
    "        (\n",
    "            rouanet_censo_removed_duplicates.valor_em_reais == 0\n",
    "        ) | (\n",
    "            rouanet_censo_removed_duplicates.quantidade == 0\n",
    "        )\n",
    "    ].index\n",
    ")\n",
    "\n",
    "# trocar os dados da coluna estado pela sigla do UF\n",
    "estados_sigla = {\n",
    "\"Acre\": \"AC\",\n",
    "\"Alagoas\": \"AL\",\n",
    "\"Amapá\": \"AP\",\n",
    "\"Amazonas\": \"AM\",\n",
    "\"Bahia\": \"BA\",\n",
    "\"Ceará\": \"CE\",\n",
    "\"Distrito Federal\": \"DF\",\n",
    "\"Espírito Santo\": \"ES\",\n",
    "\"Goiás\": \"GO\",\n",
    "\"Maranhão\": \"MA\",\n",
    "\"Mato Grosso\": \"MT\",\n",
    "\"Mato Grosso do Sul\": \"MS\",\n",
    "\"Minas Gerais\": \"MG\",\n",
    "\"Pará\": \"PA\",\n",
    "\"Paraíba\": \"PB\",\n",
    "\"Paraná\": \"PR\",\n",
    "\"Pernambuco\": \"PE\",\n",
    "\"Piauí\": \"PI\",\n",
    "\"Rio de Janeiro\": \"RJ\",\n",
    "\"Rio Grande do Norte\": \"RN\",\n",
    "\"Rio Grande do Sul\": \"RS\",\n",
    "\"Rondônia\": \"RO\",\n",
    "\"Roraima\": \"RR\",\n",
    "\"Santa Catarina\": \"SC\",\n",
    "\"São Paulo\": \"SP\",\n",
    "\"Sergipe\": \"SE\",\n",
    "\"Tocantins\": \"TO\",}\n",
    "\n",
    "rouanet_censo3 = rouanet_censo_removed_duplicates.replace({\"estado\": estados_sigla})"
   ]
  }
 ],
 "metadata": {
  "kernelspec": {
   "display_name": "Python 3.7.12 ('jusbrasil')",
   "language": "python",
   "name": "python3"
  },
  "language_info": {
   "codemirror_mode": {
    "name": "ipython",
    "version": 3
   },
   "file_extension": ".py",
   "mimetype": "text/x-python",
   "name": "python",
   "nbconvert_exporter": "python",
   "pygments_lexer": "ipython3",
   "version": "3.7.12"
  },
  "orig_nbformat": 4,
  "vscode": {
   "interpreter": {
    "hash": "9c20fa98835c6a8b243fc9bacd3775c75998c00bd03b0a5293e68d87e471792a"
   }
  }
 },
 "nbformat": 4,
 "nbformat_minor": 2
}
